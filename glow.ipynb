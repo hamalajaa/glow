{
  "nbformat": 4,
  "nbformat_minor": 0,
  "metadata": {
    "colab": {
      "name": "glow.ipynb",
      "provenance": [],
      "collapsed_sections": []
    },
    "kernelspec": {
      "name": "python3",
      "display_name": "Python 3"
    },
    "accelerator": "GPU"
  },
  "cells": [
    {
      "cell_type": "markdown",
      "metadata": {
        "id": "tNvnEyT--nGW",
        "colab_type": "text"
      },
      "source": [
        "# Introduction\n",
        "\n",
        "- Generative models are characterized by their ability to learn from limited amounts of data and generalize into varying tasks and contexts.\n",
        "- During recent years, flow-based generative models have attracted particular interest over alternative, traditionally more prominent models due to the tractability of exact inference for latent variables and the exact evaluation of log-likelihood (Kingma & Dhariwal 2018).\n",
        "- In this notebook, a relatively simple instance of glow is implemented and experimented with using CIFAR-10 dataset."
      ]
    },
    {
      "cell_type": "markdown",
      "metadata": {
        "id": "LUEumdBi_J35",
        "colab_type": "text"
      },
      "source": [
        "# Model Specification\n",
        "\n",
        "### Normalizing Flow\n",
        "\n",
        "In the context of majority of flow-based models, the generative process for a high dimensional random vector $\\textbf{x}$ is defined as follows\n",
        "\n",
        "\\begin{equation}\n",
        "\\begin{aligned}\n",
        "    \\textbf{z} \\sim p_\\theta(\\textbf{z})  \\\\\n",
        "    \\textbf{x} = \\textbf{g}_\\theta(\\textbf{z}).\n",
        "\\end{aligned}\n",
        "\\end{equation}\n",
        "\n",
        "Here $\\textbf{z}$ and $p_\\theta(\\textbf{z})$ is used to denote the latent variable and its corresponding, usually simple, density. Respectively, $\\textbf{g}_\\theta$ is used to denote an invertible function such that the latent variable can be inferred as $\\textbf{z} = \\textbf{g}_\\theta^{-1}(\\textbf{x}) = \\textbf{f}_\\theta(\\textbf{x})$. The functions $\\textbf{f}$ and $\\textbf{g}$ are chosen so that they can be represented as sequences of individual and invertible transformations $\\textbf{f} = \\textbf{f}_1 \\circ \\textbf{f}_2 \\circ \\dots \\circ \\textbf{f}_K$ such that $\\textbf{x} = \\textbf{g}(\\textbf{z})$ can be written as\n",
        "\n",
        "\\begin{equation}\n",
        "    \\textbf{x} \\overset{f_1}{\\leftrightarrow} \\textbf{h}_1 \\overset{f_2}{\\leftrightarrow} \\textbf{h}_2 \\dots  \\overset{f_K}{\\leftrightarrow} \\textbf{z}.\n",
        "\\end{equation}\n",
        "\n",
        "This series of invertible transformations essentially maps a more complex desity $p(\\textbf{x})$ to a simple, tractable density $p(\\textbf{z})$.\n",
        "\n",
        "For continuous data, $\\mathcal{D}$, the log-likelihood objective for normalizing flow models is defined as minimizing\n",
        "\n",
        "\\begin{equation}\n",
        "\\begin{aligned}\n",
        "    \\mathcal{L}(\\mathcal{D}) \\simeq \\frac{1}{N} \\sum_{i=1}^N -\\log p_{\\theta} (\\hat{x}^{(i)}) + c \\\\\n",
        "    \\hat{x}^{(i)} = x^{(i)} + u, u \\sim \\mathcal{U}(0, a) \\\\\n",
        "    c = -M \\cdot \\log a,\n",
        "\\end{aligned}\n",
        "\\end{equation}\n",
        "\n",
        "i.e. the expected compression cost, where $M$ and $a$ is the dimensionality and discretization level of $\\textbf{x}$. By utilizing the change of variable formula, the probability density $p_\\theta(\\textbf{x})$ can be represented as\n",
        "\n",
        "\\begin{equation}\n",
        "    p_\\theta(\\textbf{x}) = p_\\theta(\\textbf{z}) |\\det(d\\textbf{z}/d\\textbf{x})|| \\\\\n",
        "\\end{equation}\n",
        "\n",
        "By taking a logartihm of the density and representing the transformation $\\textbf{x} \\leftrightarrow \\textbf{z}$ as a series of transformations, we can derive the maximum likelihood objective as follows:\n",
        "\n",
        "\\begin{equation}\n",
        "\\begin{aligned}\n",
        "    \\log p_\\theta(\\textbf{x}) = \\log p_\\theta(\\textbf{z}) + \\log |\\det(d\\textbf{z}/d\\textbf{x})|| \\\\\n",
        "    = \\log p_\\theta(\\textbf{z}) + \\sum_{i=1}^K \\log |\\det(d\\textbf{h}_i/d\\textbf{h}_{i-1})||,\n",
        "\\end{aligned}\n",
        "\\end{equation}\n",
        "\n",
        "Here the terms $|\\det(d\\textbf{h}_i/d\\textbf{h}_{i-1})|$ essentially indicate the expansive/contracting magnitude of a single transformation in sequence. \n"
      ]
    },
    {
      "cell_type": "code",
      "metadata": {
        "id": "Kg0RGCOTWwzG",
        "colab_type": "code",
        "colab": {}
      },
      "source": [
        "import time\n",
        "from google.colab import files"
      ],
      "execution_count": 0,
      "outputs": []
    },
    {
      "cell_type": "code",
      "metadata": {
        "id": "Jr3Y2rCuWwrA",
        "colab_type": "code",
        "outputId": "2b923f1b-46f0-4523-ec83-f78aa77b9572",
        "colab": {
          "base_uri": "https://localhost:8080/",
          "height": 122
        }
      },
      "source": [
        "from google.colab import drive\n",
        "drive.mount('/content/gdrive')"
      ],
      "execution_count": 2,
      "outputs": [
        {
          "output_type": "stream",
          "text": [
            "Go to this URL in a browser: https://accounts.google.com/o/oauth2/auth?client_id=947318989803-6bn6qk8qdgf4n4g3pfee6491hc0brc4i.apps.googleusercontent.com&redirect_uri=urn%3aietf%3awg%3aoauth%3a2.0%3aoob&response_type=code&scope=email%20https%3a%2f%2fwww.googleapis.com%2fauth%2fdocs.test%20https%3a%2f%2fwww.googleapis.com%2fauth%2fdrive%20https%3a%2f%2fwww.googleapis.com%2fauth%2fdrive.photos.readonly%20https%3a%2f%2fwww.googleapis.com%2fauth%2fpeopleapi.readonly\n",
            "\n",
            "Enter your authorization code:\n",
            "··········\n",
            "Mounted at /content/gdrive\n"
          ],
          "name": "stdout"
        }
      ]
    },
    {
      "cell_type": "code",
      "metadata": {
        "id": "wmNnaX5whNv4",
        "colab_type": "code",
        "outputId": "b4d2feed-5a29-478f-9acf-a184f16afd8a",
        "colab": {
          "base_uri": "https://localhost:8080/",
          "height": 238
        }
      },
      "source": [
        "!ln -sf /opt/bin/nvidia-smi /usr/bin/nvidia-smi\n",
        "!pip install gputil\n",
        "!pip install psutil\n",
        "!pip install humanize\n",
        "import psutil\n",
        "import humanize\n",
        "import os\n",
        "import GPUtil as GPU\n",
        "GPUs = GPU.getGPUs()\n",
        "# XXX: only one GPU on Colab and isn’t guaranteed\n",
        "gpu = GPUs[0]\n",
        "def printm():\n",
        " process = psutil.Process(os.getpid())\n",
        " print(\"Gen RAM Free: \" + humanize.naturalsize( psutil.virtual_memory().available ), \" | Proc size: \" + humanize.naturalsize( process.memory_info().rss))\n",
        " print(\"GPU RAM Free: {0:.0f}MB | Used: {1:.0f}MB | Util {2:3.0f}% | Total {3:.0f}MB\".format(gpu.memoryFree, gpu.memoryUsed, gpu.memoryUtil*100, gpu.memoryTotal))\n",
        "printm() "
      ],
      "execution_count": 3,
      "outputs": [
        {
          "output_type": "stream",
          "text": [
            "Collecting gputil\n",
            "  Downloading https://files.pythonhosted.org/packages/ed/0e/5c61eedde9f6c87713e89d794f01e378cfd9565847d4576fa627d758c554/GPUtil-1.4.0.tar.gz\n",
            "Building wheels for collected packages: gputil\n",
            "  Building wheel for gputil (setup.py) ... \u001b[?25l\u001b[?25hdone\n",
            "  Created wheel for gputil: filename=GPUtil-1.4.0-cp36-none-any.whl size=7410 sha256=2c5d9bddd3b30021585275f0f5b56c75450957f66f11ff08f74aef2c52d6c03f\n",
            "  Stored in directory: /root/.cache/pip/wheels/3d/77/07/80562de4bb0786e5ea186911a2c831fdd0018bda69beab71fd\n",
            "Successfully built gputil\n",
            "Installing collected packages: gputil\n",
            "Successfully installed gputil-1.4.0\n",
            "Requirement already satisfied: psutil in /usr/local/lib/python3.6/dist-packages (5.4.8)\n",
            "Requirement already satisfied: humanize in /usr/local/lib/python3.6/dist-packages (0.5.1)\n",
            "Gen RAM Free: 12.8 GB  | Proc size: 156.3 MB\n",
            "GPU RAM Free: 16280MB | Used: 0MB | Util   0% | Total 16280MB\n"
          ],
          "name": "stdout"
        }
      ]
    },
    {
      "cell_type": "code",
      "metadata": {
        "id": "i52NPpTgVFgv",
        "colab_type": "code",
        "colab": {}
      },
      "source": [
        "import numpy as np\n",
        "import time\n",
        "import torch\n",
        "import torch.nn as nn\n",
        "import torch.nn.functional as F\n",
        "import torch.optim as optim\n",
        "import torchvision\n",
        "from torchvision import datasets, transforms\n",
        "cuda = torch.cuda.is_available()"
      ],
      "execution_count": 0,
      "outputs": []
    },
    {
      "cell_type": "code",
      "metadata": {
        "id": "ydro7RmPVFDl",
        "colab_type": "code",
        "colab": {}
      },
      "source": [
        "BATCH_SIZE = 64\n",
        "DIM_HIDDEN = 512\n",
        "DEPTH = 32\n",
        "LEVELS = 3"
      ],
      "execution_count": 0,
      "outputs": []
    },
    {
      "cell_type": "code",
      "metadata": {
        "id": "ArhqrGj_YMob",
        "colab_type": "code",
        "outputId": "bafb7f6e-28e7-4bd0-968c-c8e8535f6377",
        "colab": {
          "base_uri": "https://localhost:8080/",
          "height": 102
        }
      },
      "source": [
        "from torch.utils.data import DataLoader\n",
        "from torch.utils.data.sampler import SubsetRandomSampler\n",
        "from torchvision.transforms import ToTensor\n",
        "from functools import reduce\n",
        "\n",
        "\n",
        "classes = ('plane', 'car', 'bird', 'cat', 'deer',\n",
        "           'dog', 'frog', 'horse', 'ship', 'truck')\n",
        "\n",
        "n_bins = 2**8  # 8 bits\n",
        "\n",
        "transform = transforms.Compose([transforms.ToTensor(), \n",
        "                         lambda x: x + torch.zeros_like(x).uniform_(0., 1./n_bins)])\n",
        "\n",
        "# Load dataset\n",
        "trainset = torchvision.datasets.CIFAR10(root='./data', train=True,\n",
        "                                        download=True, transform=transform)\n",
        "testset = torchvision.datasets.CIFAR10(root='./data', train=False,\n",
        "                                       download=True, transform=transform)\n",
        "\n",
        "    \n",
        "train_loader = torch.utils.data.DataLoader(trainset, batch_size=BATCH_SIZE,\n",
        "                                          shuffle=True, num_workers=10, drop_last=True)\n",
        "test_loader = torch.utils.data.DataLoader(testset, batch_size=BATCH_SIZE,\n",
        "                                         shuffle=False, num_workers=10, drop_last=True)\n",
        "init_loader = torch.utils.data.DataLoader(torchvision.datasets.CIFAR10(root='./data', train=True, \n",
        "    download=True, transform=transform), batch_size=BATCH_SIZE, shuffle=True, num_workers=1)\n",
        "\n"
      ],
      "execution_count": 6,
      "outputs": [
        {
          "output_type": "stream",
          "text": [
            "\r0it [00:00, ?it/s]"
          ],
          "name": "stderr"
        },
        {
          "output_type": "stream",
          "text": [
            "Downloading https://www.cs.toronto.edu/~kriz/cifar-10-python.tar.gz to ./data/cifar-10-python.tar.gz\n"
          ],
          "name": "stdout"
        },
        {
          "output_type": "stream",
          "text": [
            "170500096it [00:06, 27662614.48it/s]                               \n"
          ],
          "name": "stderr"
        },
        {
          "output_type": "stream",
          "text": [
            "Extracting ./data/cifar-10-python.tar.gz to ./data\n",
            "Files already downloaded and verified\n",
            "Files already downloaded and verified\n"
          ],
          "name": "stdout"
        }
      ]
    },
    {
      "cell_type": "code",
      "metadata": {
        "id": "QTORze5pYMl0",
        "colab_type": "code",
        "outputId": "d49f373f-656a-4da4-959d-56c4aab26c96",
        "colab": {
          "base_uri": "https://localhost:8080/",
          "height": 34
        }
      },
      "source": [
        "from torch.autograd import Variable\n",
        "\n",
        "x, _ = trainset[0]\n",
        "x = Variable(x)\n",
        "\n",
        "DIM_CHANNELS, IMG_HEIGHT, IMG_WIDTH = x.shape\n",
        "SHAPE = BATCH_SIZE, DIM_CHANNELS, IMG_HEIGHT, IMG_WIDTH\n",
        "SHAPE"
      ],
      "execution_count": 7,
      "outputs": [
        {
          "output_type": "execute_result",
          "data": {
            "text/plain": [
              "(64, 3, 32, 32)"
            ]
          },
          "metadata": {
            "tags": []
          },
          "execution_count": 7
        }
      ]
    },
    {
      "cell_type": "code",
      "metadata": {
        "id": "fq0Ww0vSaPAC",
        "colab_type": "code",
        "colab": {}
      },
      "source": [
        "learn_top = True"
      ],
      "execution_count": 0,
      "outputs": []
    },
    {
      "cell_type": "markdown",
      "metadata": {
        "id": "Eh5VhhIZZpkJ",
        "colab_type": "text"
      },
      "source": [
        "# Utility Functions"
      ]
    },
    {
      "cell_type": "code",
      "metadata": {
        "id": "-1Y9KE1qYMeT",
        "colab_type": "code",
        "colab": {}
      },
      "source": [
        "# https://github.com/pclucas14/pytorch-glow/blob/master/utils.py\n",
        "def flatten_sum(logps):\n",
        "    while len(logps.size()) > 1: \n",
        "        logps = logps.sum(dim=-1)\n",
        "    return logps"
      ],
      "execution_count": 0,
      "outputs": []
    },
    {
      "cell_type": "code",
      "metadata": {
        "id": "4vbJjDjjarZp",
        "colab_type": "code",
        "colab": {}
      },
      "source": [
        "def onehot(y, num_classes):\n",
        "    y_onehot = torch.zeros(y.size(0), num_classes).to(y.device)\n",
        "    if len(y.size()) == 1:\n",
        "        y_onehot = y_onehot.scatter_(1, y.unsqueeze(-1), 1)\n",
        "    else:\n",
        "        y_onehot = y_onehot.scatter_(1, y, 1)\n",
        "    return y_onehot"
      ],
      "execution_count": 0,
      "outputs": []
    },
    {
      "cell_type": "code",
      "metadata": {
        "id": "9GQ-3K2hYMa8",
        "colab_type": "code",
        "colab": {}
      },
      "source": [
        "def gaussian_diag(mean, logsd):\n",
        "    class o(object):\n",
        "        Log2PI = float(np.log(2 * np.pi))\n",
        "        pass\n",
        "\n",
        "        def logps(x):\n",
        "            return  -0.5 * (o.Log2PI + 2. * logsd + (x - mean) ** 2 / torch.exp(2. * logsd))\n",
        "\n",
        "        def sample(eps_std=1):\n",
        "            eps = torch.normal(mean=torch.zeros_like(mean),\n",
        "                           std=torch.ones_like(logsd) * eps_std)\n",
        "            return mean + torch.exp(logsd) * eps\n",
        "\n",
        "    o.logp = lambda x: flatten_sum(o.logps(x))\n",
        "    return o\n"
      ],
      "execution_count": 0,
      "outputs": []
    },
    {
      "cell_type": "code",
      "metadata": {
        "id": "ZnUNXk5hZm1O",
        "colab_type": "code",
        "colab": {}
      },
      "source": [
        "# Standard linear layer with zero initial weights and biases\n",
        "\n",
        "class LinearZeros(nn.Linear):\n",
        "    def __init__(self, in_channels, out_channels, logscale=3):\n",
        "        super().__init__(in_channels, out_channels)\n",
        "        self.logscale = logscale\n",
        "        self.register_parameter(\"logs\", nn.Parameter(torch.zeros(out_channels)))\n",
        "        # zero init\n",
        "        self.weight.data.zero_()\n",
        "        self.bias.data.zero_()\n",
        "\n",
        "    def forward(self, x):\n",
        "        out = super().forward(x)\n",
        "        return out * torch.exp(self.logs * self.logscale)"
      ],
      "execution_count": 0,
      "outputs": []
    },
    {
      "cell_type": "code",
      "metadata": {
        "id": "5XsfbTRrW0a_",
        "colab_type": "code",
        "colab": {}
      },
      "source": [
        "# Standard convolutional layer with zero initial weights and biases\n",
        "\n",
        "class ConvZeros(nn.Conv2d):\n",
        "    def __init__(self, channels_in, channels_out, filter_size, stride=1, padding=1, logs_factor=3.):\n",
        "        super().__init__(channels_in, channels_out, filter_size, stride=stride, padding=padding)\n",
        "        self.register_parameter(\"logs\", nn.Parameter(torch.zeros(channels_out, 1, 1)))\n",
        "        self.logs_factor = logs_factor\n",
        "        # Zero init\n",
        "        self.weight.data.zero_()\n",
        "        self.bias.data.zero_()\n",
        "\n",
        "    def forward(self, x):\n",
        "        out = super().forward(x)\n",
        "        return out * torch.exp(self.logs * self.logs_factor)"
      ],
      "execution_count": 0,
      "outputs": []
    },
    {
      "cell_type": "markdown",
      "metadata": {
        "id": "fkdmq7vPMAbY",
        "colab_type": "text"
      },
      "source": [
        "# Glow\n",
        "\n",
        "### Actnorm \n",
        "\n",
        "The actnorm layer performs an affine transformation on the activations using scale and bias parameters per channel. Both scale and shift are initialized depending on the data so that the first batch has a mean of zero and unit variance per channel after the actnorm layer. These parameters are treated as regular trainable parameters after initialization."
      ]
    },
    {
      "cell_type": "code",
      "metadata": {
        "id": "qKFk4qhaZmyi",
        "colab_type": "code",
        "colab": {}
      },
      "source": [
        "class ActnormLayer(nn.Module):\n",
        "    def __init__(self, dim_channels, logs_factor=1., scale=1.):\n",
        "        super(ActnormLayer, self).__init__()\n",
        "        self.initialized = False\n",
        "        self.logs_factor = logs_factor\n",
        "        self.scale = scale\n",
        "        self.register_parameter('b', nn.Parameter(torch.zeros(1, dim_channels, 1, 1)))\n",
        "        self.register_parameter('logs', nn.Parameter(torch.zeros(1, dim_channels, 1, 1)))\n",
        "\n",
        "\n",
        "    def init_params(self, x):\n",
        "\n",
        "        with torch.no_grad():\n",
        "\n",
        "            bias = -torch.mean(x, dim=[0, 2, 3], keepdim=True)\n",
        "            vars = torch.mean((x + bias) ** 2, dim=[0, 2, 3], keepdim=True)\n",
        "            logs = torch.log(self.scale / (torch.sqrt(vars) + 1e-6)) / self.logs_factor\n",
        "\n",
        "            self.b.data.copy_(bias.data)\n",
        "            self.logs.data.copy_(logs.data)\n",
        "\n",
        "\n",
        "    def forward(self, x, reverse, objective):\n",
        "\n",
        "        if not reverse:\n",
        "\n",
        "            if not self.initialized: \n",
        "                self.initialized = True\n",
        "                self.init_params(x)\n",
        "\n",
        "            logs = self.logs * self.logs_factor\n",
        "            b = self.b\n",
        "            \n",
        "            output = (x + b) * torch.exp(logs)\n",
        "            dlogdet = torch.sum(logs) * x.size(2) * x.size(3) # n of pixels \n",
        "\n",
        "            return output.view(x.shape), objective + dlogdet\n",
        "\n",
        "        else:\n",
        "\n",
        "            logs = self.logs * self.logs_factor\n",
        "            b = self.b\n",
        "            output = x * torch.exp(-logs) - b\n",
        "            dlogdet = torch.sum(logs) * x.size(2) * x.size(3) # n of pixels \n",
        "\n",
        "            return output.view(x.shape), objective - dlogdet"
      ],
      "execution_count": 0,
      "outputs": []
    },
    {
      "cell_type": "code",
      "metadata": {
        "id": "fAX3BtHJZmrw",
        "colab_type": "code",
        "colab": {}
      },
      "source": [
        "# Standard convolutional layer with actnorm\n",
        "\n",
        "class ConvActNorm(nn.Module):\n",
        "    def __init__(self, channels_in, channels_out, filter_size, stride=1, padding=None):\n",
        "        super(ConvActNorm, self).__init__()\n",
        "        padding = (filter_size - 1) // 2 or padding\n",
        "        self.conv = nn.Conv2d(channels_in, channels_out, filter_size, padding=padding, bias=False)\n",
        "        self.actnorm =  ActnormLayer(channels_out)\n",
        "\n",
        "    def forward(self, x):\n",
        "        x = self.conv(x)\n",
        "        x = self.actnorm.forward(x, False, -1)[0]\n",
        "        return x"
      ],
      "execution_count": 0,
      "outputs": []
    },
    {
      "cell_type": "markdown",
      "metadata": {
        "id": "1hjmIgpvMK91",
        "colab_type": "text"
      },
      "source": [
        "### Invertible $1 \\times 1$ convolution\n",
        "\n",
        "As the name suggests, this layer performs an invertible convolution with equal number of input and output channels and a kernel of size $c \\times c$, where for an input tensor of dimensionality $c \\times h \\times w$. This transformation essentially learns to permute the ordering of the channels to account for the fact that affine coupling layers leave the first half of the data untouched. Respectively, the convolution kernel is first initialized as a random rotation matrix.\n",
        "\n",
        "The log-determinant of an invertible $1 \\times 1$ convolution for an input tensor $\\textbf{h}$ is defined as\n",
        "\n",
        "\\begin{equation}\n",
        "    \\log |\\det(\\frac{d \\mathsf{conv2D}(\\textbf{h}; \\textbf{W})}{d \\textbf{h}})| = h \\cdot w \\cdot \\log |\\det(\\textbf{W})|.\n",
        "\\end{equation}\n",
        "\n",
        "The computation time for this log-determinant can be significantly decreased for large values of $c$ by utilizing LU-decomposition for the weight matrix $\\textbf{W}$."
      ]
    },
    {
      "cell_type": "code",
      "metadata": {
        "id": "yjK472ZtZmnB",
        "colab_type": "code",
        "colab": {}
      },
      "source": [
        "class Invertible_1x1_Convolution(nn.Module):\n",
        "    \n",
        "    def __init__(self, dim_channels):\n",
        "        super(Invertible_1x1_Convolution, self).__init__()\n",
        "        \n",
        "        self.kernel_shape = 1\n",
        "        self.dim_channels = dim_channels\n",
        "        \n",
        "        # Init with random orthonormal weights\n",
        "        self.register_parameter('w', torch.nn.Parameter(torch.from_numpy(np.linalg.qr(np.random.randn(\n",
        "            *[self.dim_channels,self.dim_channels]))[0].astype('float32'))))\n",
        "        \n",
        "    def forward(self, z, reverse, logdet):\n",
        "        \n",
        "        shape = z.shape\n",
        "        d_logdet = torch.log(torch.abs(torch.det(self.w))) * shape[2] * shape[3]  # pixels\n",
        "        \n",
        "        if not reverse:\n",
        "            \n",
        "            w = self.w\n",
        "            kernel = torch.reshape(w, w.shape + torch.Size([1,1]))\n",
        "            z = F.conv2d(z, kernel)\n",
        "            \n",
        "            return z, logdet + d_logdet\n",
        "\n",
        "        else:\n",
        "\n",
        "            w = torch.inverse(self.w)\n",
        "            kernel = torch.reshape(w, w.shape + torch.Size([1,1]))\n",
        "            z = F.conv2d(z, kernel)\n",
        "            \n",
        "            return z, logdet - d_logdet\n",
        "              "
      ],
      "execution_count": 0,
      "outputs": []
    },
    {
      "cell_type": "markdown",
      "metadata": {
        "id": "dsPIWmwAMa-e",
        "colab_type": "text"
      },
      "source": [
        "### Affine coupling layer\n",
        "\n",
        "The affine coupling layer first splits the input tensor along its channel dimension after which it performs an affine transformation on the second half of data ($\\textbf{x}_b$) before concatenating them back together. The affine transformation is performed based on the function NN(), which takes the first half of the data ($\\textbf{x}_a$) as an input and outputs the scale and shift parameters for the affine transformation. The function NN() is essentially a shallow convolutional network with its last convolution initialized as zeros.\n"
      ]
    },
    {
      "cell_type": "code",
      "metadata": {
        "id": "6E670GMbZmkv",
        "colab_type": "code",
        "colab": {}
      },
      "source": [
        "class AffineCouplingLayer(nn.Module):\n",
        "    \n",
        "    def __init__(self, dim_channels, dim_hidden=DIM_HIDDEN):\n",
        "        super(AffineCouplingLayer, self).__init__()\n",
        "        \n",
        "        self.dim_channels = dim_channels\n",
        "        \n",
        "        self.out_dim = dim_channels // 2\n",
        "        self.in_dim = dim_channels - self.out_dim\n",
        "        self.dim_hidden = dim_hidden\n",
        "        \n",
        "        self.kernel1 = 3\n",
        "        self.kernel2 = 1\n",
        "        self.kernel3 = 3\n",
        "        \n",
        "        self.nn = nn.Sequential(\n",
        "            ConvActNorm(self.in_dim, self.dim_hidden, self.kernel1, padding=1),\n",
        "            nn.ReLU(),\n",
        "            ConvActNorm(self.dim_hidden, self.dim_hidden, self.kernel2, padding=0),\n",
        "            nn.ReLU(),\n",
        "            ConvZeros(self.dim_hidden, 2*self.out_dim, self.kernel3, padding=1)\n",
        "        )\n",
        "        \n",
        "        \n",
        "    def forward(self, z, reverse, logdet):\n",
        "        \n",
        "        z_a, z_b = torch.chunk(z, 2, dim=1)\n",
        "        \n",
        "        out = self.nn(z_a)\n",
        "        \n",
        "        shift, log_scale = out[:, 0::2], out[:, 1::2]\n",
        "        scale = torch.sigmoid(log_scale + 2.)\n",
        "        \n",
        "        if not reverse:\n",
        "            z_b += shift\n",
        "            z_b *= scale\n",
        "            logdet += flatten_sum(torch.log(scale))\n",
        "            \n",
        "        else:\n",
        "            z_b /= scale\n",
        "            z_b -= shift\n",
        "            logdet -= flatten_sum(torch.log(scale))\n",
        "            \n",
        "          \n",
        "        z = torch.cat([z_a, z_b], 1)\n",
        "        \n",
        "        return z, logdet\n",
        "    \n"
      ],
      "execution_count": 0,
      "outputs": []
    },
    {
      "cell_type": "markdown",
      "metadata": {
        "id": "WYkgJSK2TSxn",
        "colab_type": "text"
      },
      "source": [
        "### Multi-scale architecture\n",
        "\n",
        "The multi-scale architecture of the model consists of sequences of flow steps, i.e.\n",
        "\n",
        "- **Step of flow**: actnorm $\\rightarrow$ invertible $1 \\times 1$ convolution $\\rightarrow$ affine coupling\n",
        "\n",
        "preceded by a squeeze operation (transforming a $c \\times h \\times w$ tensor into shape of $4c \\times \\frac{h}{2} \\times \\frac{w}{2}$) and followed by a split layer. \n",
        "\n",
        "- **Level of flow**: squeeze $\\rightarrow$ step of flow $\\rightarrow$ split\n",
        "\n",
        "At each split layer, half of the dimensions are factored out and modelled as a Gaussian distribution (optionally storing the cut-off dimensions) while the other half are selected for further layers as described in the work of Dinh et al. (2016). A complete glow consists of a stack of multiple levels of flow."
      ]
    },
    {
      "cell_type": "code",
      "metadata": {
        "id": "OsuUdTpHZmiE",
        "colab_type": "code",
        "colab": {}
      },
      "source": [
        "class FlowStep(nn.Module):\n",
        "    \n",
        "    def __init__(self, dim_channels):\n",
        "        super(FlowStep, self).__init__()\n",
        "        \n",
        "        self.actnorm = ActnormLayer(dim_channels)\n",
        "        self.invertible_convolution = Invertible_1x1_Convolution(dim_channels)\n",
        "        self.affine_coupling = AffineCouplingLayer(dim_channels)\n",
        "        \n",
        "        \n",
        "    def forward(self, z, reverse, logdet):\n",
        "        \n",
        "        if not reverse:\n",
        "            \n",
        "            #print('Initial: {}'.format(logdet[0]))\n",
        "            z, logdet = self.actnorm(z, reverse, logdet)\n",
        "            #print('Actnorm: {}'.format(logdet[0]))\n",
        "            z, logdet = self.invertible_convolution(z, reverse, logdet)\n",
        "            #print('Conv: {}'.format(logdet[0]))\n",
        "            z, logdet = self.affine_coupling(z, reverse, logdet)\n",
        "            #print('Affine: {}'.format(logdet[0]))\n",
        "             \n",
        "        else:\n",
        "            \n",
        "            z, logdet = self.affine_coupling(z, reverse, logdet)\n",
        "            z, logdet = self.invertible_convolution(z, reverse, logdet)\n",
        "            z, logdet = self.actnorm(z, reverse, logdet)\n",
        "        \n",
        "        return z, logdet\n",
        "                      "
      ],
      "execution_count": 0,
      "outputs": []
    },
    {
      "cell_type": "code",
      "metadata": {
        "id": "uIzN1MsnZmf-",
        "colab_type": "code",
        "colab": {}
      },
      "source": [
        "class SqueezeLayer(nn.Module):\n",
        "    \n",
        "    def __init__(self, factor=2):\n",
        "        super(SqueezeLayer, self).__init__()\n",
        "        \n",
        "        self.factor = factor\n",
        "\n",
        "    def squeeze(self, x):\n",
        "        batch_size, dim_channel, height, width = x.shape\n",
        "\n",
        "        # https://github.com/chaiyujin/glow-pytorch/blob/master/glow/modules.py\n",
        "        x = x.view(batch_size, dim_channel, height // self.factor, self.factor, width // self.factor, self.factor)\n",
        "        x = x.permute(0, 1, 3, 5, 2, 4).contiguous()\n",
        "        x = x.view(batch_size, dim_channel * self.factor ** 2, height // self.factor, width // self.factor)\n",
        "        \n",
        "        return x\n",
        "\n",
        "    def unsqueeze(self, x):\n",
        "        batch_size, dim_channel, height, width = x.shape\n",
        "\n",
        "        # https://github.com/chaiyujin/glow-pytorch/blob/master/glow/modules.py\n",
        "        x = x.view(batch_size, dim_channel // self.factor ** 2, self.factor, self.factor, height, width)\n",
        "        x = x.permute(0, 1, 4, 2, 5, 3).contiguous()\n",
        "        x = x.view(batch_size, dim_channel // self.factor ** 2, height * self.factor, width * self.factor)\n",
        "        \n",
        "        return x\n",
        "        \n",
        "    def forward(self, z, reverse, logdet):\n",
        "        \n",
        "        if not reverse:\n",
        "            return self.squeeze(z), logdet\n",
        "               \n",
        "        else:\n",
        "            return self.unsqueeze(z), logdet\n",
        "                "
      ],
      "execution_count": 0,
      "outputs": []
    },
    {
      "cell_type": "code",
      "metadata": {
        "id": "l534K6T9Zmdh",
        "colab_type": "code",
        "colab": {}
      },
      "source": [
        "class SplitLayer(nn.Module):\n",
        "    \n",
        "    def __init__(self, dim_channels):\n",
        "        super(SplitLayer, self).__init__()\n",
        "        self.dim_channels = dim_channels\n",
        "        self.in_dim = dim_channels // 2\n",
        "        \n",
        "        self.conv = ConvZeros(self.in_dim, self.dim_channels, 3, padding=1)\n",
        "\n",
        "    def prior(self, z):\n",
        "        out = self.conv(z)\n",
        "        shift, log_scale = out[:, 0::2], out[:, 1::2]\n",
        "        return gaussian_diag(shift, log_scale)\n",
        "\n",
        "    def forward(self, z, reverse, logdet, eps_std=1, use_stored_sample=False):\n",
        "        \n",
        "        if not reverse:\n",
        "            \n",
        "            z_a, z_b = torch.chunk(z, 2, dim=1)\n",
        "            \n",
        "            pz = self.prior(z_a)\n",
        "            self.sample = z_b\n",
        "            \n",
        "            logdet += pz.logp(z_b)\n",
        "            \n",
        "            return z_a, logdet\n",
        "        \n",
        "        else:\n",
        "            \n",
        "            pz = self.prior(z)\n",
        "            z_b = self.sample if use_stored_sample else pz.sample(eps_std)\n",
        "            # Concatenate the input and sample\n",
        "            z = torch.cat([z, z_b], dim=1)\n",
        "            logdet -= pz.logp(z_b)\n",
        "            \n",
        "            return z, logdet\n",
        " "
      ],
      "execution_count": 0,
      "outputs": []
    },
    {
      "cell_type": "code",
      "metadata": {
        "id": "fjxLZ-3tZmbN",
        "colab_type": "code",
        "colab": {}
      },
      "source": [
        "class Prior(nn.Module):\n",
        "    \n",
        "    def __init__(self, input_shape):\n",
        "        super(Prior, self).__init__()\n",
        "        self.input_shape = input_shape\n",
        "        self.conv = ConvZeros(2*input_shape[1], 2*input_shape[1], 3, padding=1)\n",
        "        self.project_y = LinearZeros(len(classes), 2 * self.input_shape[1])\n",
        "        self.register_parameter(\"prior\",\n",
        "            nn.Parameter(torch.zeros([input_shape[0], 2*input_shape[1], input_shape[2], input_shape[3]])))\n",
        "\n",
        "        \n",
        "    def forward(self, z, reverse, logdet, y_onehot=None, eps_std=1):\n",
        "\n",
        "        B, C = self.prior.size(0), self.prior.size(1)\n",
        "        \n",
        "        if z is not None:\n",
        "            b, c, h, w = z.shape\n",
        "        else:\n",
        "            b, c, h, w = self.input_shape\n",
        "        \n",
        "        h_ = self.prior.detach().clone()\n",
        "\n",
        "        if learn_top:\n",
        "            h_ = self.conv(h_)\n",
        "\n",
        "        if y_onehot is not None:\n",
        "            y_proj = self.project_y(y_onehot).view(B, C, 1, 1)\n",
        "            h_ += y_proj\n",
        "\n",
        "        mean, logsd = torch.chunk(h_, 2, dim=1)\n",
        "        pz = gaussian_diag(mean, logsd)\n",
        "\n",
        "        if not reverse:\n",
        "        \n",
        "            logdet += pz.logp(z).cuda()\n",
        "            return z, logdet\n",
        "\n",
        "        else:\n",
        "        \n",
        "            if z is None:\n",
        "                z = pz.sample(eps_std)\n",
        "            logdet -= pz.logp(z).cuda()\n",
        "            return z, logdet\n"
      ],
      "execution_count": 0,
      "outputs": []
    },
    {
      "cell_type": "code",
      "metadata": {
        "id": "QLw2MYmjZmYv",
        "colab_type": "code",
        "colab": {}
      },
      "source": [
        "class Glow(nn.Module):\n",
        "    \n",
        "    def __init__(self, input_shape=SHAPE, levels=LEVELS, depth=DEPTH):\n",
        "        super(Glow, self).__init__()\n",
        "        \n",
        "        self.input_shape = input_shape\n",
        "        self.levels = levels\n",
        "\n",
        "        b, c, h, w = input_shape\n",
        "        layers = []\n",
        "        self.layer_names = []\n",
        "        self.out_shapes = []\n",
        "        \n",
        "        for l in range(levels):\n",
        "            layers += [SqueezeLayer()]\n",
        "            self.layer_names += ['Squeeze']\n",
        "            c, h, w = c * 4, h // 2, w // 2\n",
        "            self.out_shapes.append([-1, c, h, w])\n",
        "            \n",
        "            for _ in range(depth):\n",
        "                layers += [FlowStep(c)]\n",
        "                self.layer_names += ['Flow']\n",
        "                self.out_shapes.append([-1, c, h, w])\n",
        "                \n",
        "            if l < levels - 1:\n",
        "                layers += [SplitLayer(c)]\n",
        "                self.layer_names += ['Split']\n",
        "                c //= 2\n",
        "                self.out_shapes.append([-1, c, h, w])\n",
        "        \n",
        "        layers += [Prior([b,c,h,w])]\n",
        "        self.layer_names += ['Prior']\n",
        "        \n",
        "        self.layers =  nn.ModuleList(layers)\n",
        "        self.project_class = LinearZeros(self.out_shapes[-1][1], len(classes))\n",
        "\n",
        "        \n",
        "    def forward(self, x, reverse, logdet, y_onehot=None, eps_std=1, n_stored_samples=None):\n",
        "        \n",
        "        n_stored = n_stored_samples or 0\n",
        "        stored_sample_pattern = torch.fill_(torch.empty(self.levels, dtype=bool), False)\n",
        "        stored_sample_pattern_r = torch.fill_(torch.empty(self.levels, dtype=bool), False)\n",
        "        for l in range(self.levels): \n",
        "            if l < n_stored:\n",
        "                stored_sample_pattern[l] = True\n",
        "                stored_sample_pattern_r[self.levels - l - 1] = True\n",
        "\n",
        "        if not reverse:\n",
        "            \n",
        "            #it = time.time()\n",
        "            l = 0  # Current level\n",
        "\n",
        "            for i, layer in enumerate(self.layers):\n",
        "                \n",
        "                #t = time.time()\n",
        "                \n",
        "                if isinstance(layer, SplitLayer):\n",
        "                    x, logdet = layer(x, reverse, logdet, eps_std, stored_sample_pattern[l])\n",
        "                    l += 1\n",
        "                elif isinstance(layer, Prior):\n",
        "                    x, logdet = layer(x, reverse, logdet, y_onehot, eps_std)\n",
        "                else:                \n",
        "                    x, logdet = layer(x, reverse, logdet)\n",
        "\n",
        "                #print(\"{}: {}\".format(self.layer_names[i], time.time() - t))\n",
        "\n",
        "            #print(time.time() - it)\n",
        "\n",
        "        else:\n",
        "            \n",
        "            with torch.no_grad():\n",
        "\n",
        "                l = 0  # Current level\n",
        "\n",
        "                for i, layer in enumerate(reversed(self.layers)):\n",
        "                    \n",
        "                    if isinstance(layer, SplitLayer):\n",
        "                        x, logdet = layer(x, reverse, logdet, eps_std, stored_sample_pattern_r[l])\n",
        "                        l += 1\n",
        "                    elif isinstance(layer, Prior):\n",
        "                        x, logdet = layer(x, reverse, logdet, y_onehot, eps_std)\n",
        "                    else:                \n",
        "                        x, logdet = layer(x, reverse, logdet)\n",
        "\n",
        "                \n",
        "        return x, logdet\n",
        "        \n",
        "        \n",
        "    def sample(self, y_onehot=None, eps_std=1):\n",
        "        \n",
        "        with torch.no_grad():\n",
        "            \n",
        "            samples = self.forward(None, True, torch.zeros(self.input_shape[0]).cuda(), y_onehot, eps_std)[0]\n",
        "    \n",
        "            return samples\n",
        "\n",
        "      \n",
        "        "
      ],
      "execution_count": 0,
      "outputs": []
    },
    {
      "cell_type": "markdown",
      "metadata": {
        "id": "GEBlCYerahI1",
        "colab_type": "text"
      },
      "source": [
        "# Training"
      ]
    },
    {
      "cell_type": "code",
      "metadata": {
        "id": "jJF4TU9oZmUJ",
        "colab_type": "code",
        "colab": {}
      },
      "source": [
        "model = Glow().cuda()"
      ],
      "execution_count": 0,
      "outputs": []
    },
    {
      "cell_type": "code",
      "metadata": {
        "id": "CXkLJpVtZmRu",
        "colab_type": "code",
        "colab": {}
      },
      "source": [
        "import torch.optim as optim\n",
        "from torchvision import datasets, transforms, utils\n",
        "\n",
        "# init learning rate\n",
        "lr = 1e-3\n",
        "\n",
        "optim = optim.Adam(model.parameters(), lr=lr, weight_decay=5e-5)\n",
        "scheduler = torch.optim.lr_scheduler.StepLR(optim, step_size=45, gamma=0.1)\n",
        "BCE = nn.BCEWithLogitsLoss().cuda()\n",
        "\n",
        "\n",
        "def objective(img_shape, logdet):\n",
        "    l = (-logdet) / float(np.log(2.) * np.prod(img_shape[1:]))\n",
        "    return torch.mean(l)\n",
        "\n",
        "np.random.seed(0)\n",
        "torch.manual_seed(0)\n",
        "torch.cuda.manual_seed_all(0)"
      ],
      "execution_count": 0,
      "outputs": []
    },
    {
      "cell_type": "code",
      "metadata": {
        "id": "B0NJ624NZmO9",
        "colab_type": "code",
        "colab": {}
      },
      "source": [
        "# Data dependent init\n",
        "\n",
        "with torch.no_grad():\n",
        "    model.eval()\n",
        "    for (img, y) in init_loader:\n",
        "        img = img.cuda()\n",
        "        y_onehot = onehot(y, len(classes)).cuda()\n",
        "        logdet = torch.zeros_like(img[:, 0, 0, 0])\n",
        "        _ = model(img, False, logdet, y_onehot)\n",
        "        break"
      ],
      "execution_count": 0,
      "outputs": []
    },
    {
      "cell_type": "code",
      "metadata": {
        "id": "o5jkXqe6c_tD",
        "colab_type": "code",
        "colab": {}
      },
      "source": [
        "model = nn.DataParallel(model).cuda()"
      ],
      "execution_count": 0,
      "outputs": []
    },
    {
      "cell_type": "code",
      "metadata": {
        "id": "pLFDn3LuZmMY",
        "colab_type": "code",
        "outputId": "1043118f-a6c5-4f77-d418-0dcee695acba",
        "colab": {
          "base_uri": "https://localhost:8080/",
          "height": 527
        }
      },
      "source": [
        "num_epochs = 2000\n",
        "num_warmup_epochs = 20\n",
        "\n",
        "for epoch in range(num_epochs):\n",
        "    print('Epoch: {}'.format(epoch))\n",
        "    num_batches = len(train_loader)\n",
        "    avg_train_bits_x = 0.\n",
        "\n",
        "    # --------------------------------------------------------------------------\n",
        "    # Training\n",
        "    # --------------------------------------------------------------------------\n",
        "\n",
        "    for i, (img, y) in enumerate(train_loader):\n",
        "        #if i > 10 : break\n",
        "            \n",
        "        t = time.time()\n",
        "        img = img.cuda()\n",
        "        y_onehot = onehot(y, len(classes)).cuda()\n",
        "        logdet = torch.zeros_like(img[:, 0, 0, 0]).cuda()\n",
        "        # discretizing cost \n",
        "        logdet += float(-np.log(n_bins) * np.prod(img.shape[1:]))\n",
        "        # log_det_jacobian cost (and some prior from Split OP)\n",
        "        z, logdet = model(img, False, logdet, y_onehot)\n",
        "        loss_generative = objective(img.shape, logdet)\n",
        "\n",
        "        y_logits = model.module.project_class(z.mean(2).mean(2))\n",
        "        loss_classes = BCE(y_logits, y_onehot)\n",
        "\n",
        "        loss = loss_generative #+ loss_classes * 0.5\n",
        "\n",
        "        optim.zero_grad()\n",
        "        loss.backward()\n",
        "\n",
        "        torch.nn.utils.clip_grad_value_(model.parameters(), 5)\n",
        "        torch.nn.utils.clip_grad_norm_(model.parameters(), 100)\n",
        "\n",
        "        optim.step()\n",
        "\n",
        "        #print('Optimization time: {}'.format(time.time() - ot))\n",
        "\n",
        "        avg_train_bits_x += loss.item()\n",
        "\n",
        "        # update learning rate\n",
        "        new_lr = float(lr * min(1., (i + epoch * num_batches) / (num_warmup_epochs * num_batches)))\n",
        "        for pg in optim.param_groups: pg['lr'] = new_lr\n",
        "\n",
        "        if (i + 1) % 500 == 0: \n",
        "            print('avg train bits per pixel {:.4f}'.format(avg_train_bits_x / 500))\n",
        "            avg_train_bits_x = 0.\n",
        "            sample = model.module.sample(y_onehot)\n",
        "            grid = utils.make_grid(sample)\n",
        "\n",
        "            utils.save_image(grid, '/content/gdrive/My Drive/Colab Notebooks/glow_samples/samples6/cifar_Test_{}_{}.png'.format(epoch, i // 500))\n",
        "            #files.download('cifar_Test_{}_{}.png'.format(epoch, i // 500))\n",
        "\n",
        "        print('Batch: {}, iteration took {:.4f}, Loss: {}'.format(i, time.time() - t, loss))\n",
        "    \n",
        "    # --------------------------------------------------------------------------\n",
        "    # Validation\n",
        "    # --------------------------------------------------------------------------\n",
        "\n",
        "    if (epoch + 1) % 1 == 0:\n",
        "        model.eval()\n",
        "        avg_test_bits_x = 0.\n",
        "        with torch.no_grad():\n",
        "            for i, (img, y) in enumerate(test_loader): \n",
        "                #if i > 10 : break\n",
        "                img = img.cuda() \n",
        "                y_onehot = onehot(y, len(classes)).cuda()\n",
        "\n",
        "                logdet = torch.zeros_like(img[:, 0, 0, 0]).cuda()\n",
        "               \n",
        "                # discretizing cost \n",
        "                logdet += float(-np.log(n_bins) * np.prod(img.shape[1:]))\n",
        "                \n",
        "                # log_det_jacobian cost (and some prior from Split OP)\n",
        "                z, logdet = model(img, False, logdet, y_onehot)\n",
        "                last_img = img\n",
        "\n",
        "                loss_generative = objective(img.shape, logdet)\n",
        "\n",
        "                y_logits = model.module.project_class(z.mean(2).mean(2))\n",
        "                loss_classes = BCE(y_logits, y_onehot)\n",
        "\n",
        "                loss = loss_generative #+ loss_classes * 0.5\n",
        "\n",
        "                avg_test_bits_x += loss\n",
        "\n",
        "            print('avg test bits per pixel {:.4f}'.format(avg_test_bits_x.item() / i))\n",
        "\n",
        "            # ------------------------------------------------------------------\n",
        "            # Sampling\n",
        "            # ------------------------------------------------------------------\n",
        "\n",
        "            # Random sample\n",
        "\n",
        "            sample = model.module.sample(y_onehot)\n",
        "            grid = utils.make_grid(sample)\n",
        "\n",
        "            utils.save_image(grid, '/content/gdrive/My Drive/Colab Notebooks/glow_samples/samples6/cifar_Test_{}__1.png'.format(epoch))\n",
        "            #files.download('cifar_Test_{}__1.png'.format(epoch))\n",
        "\n",
        "            # Random sample with more variation\n",
        "\n",
        "            #sample = model.module.sample(y_onehot, eps_std=2.0)\n",
        "            #grid = utils.make_grid(sample)\n",
        "\n",
        "            #utils.save_image(grid, '/content/gdrive/My Drive/Colab Notebooks/glow_samples/samples5/cifar_Test_{}__2.png'.format(epoch))\n",
        "            #files.download('cifar_Test_{}__2.png'.format(epoch))\n",
        "            \n",
        "            # ------------------------------------------------------------------\n",
        "            # Interpolation\n",
        "            # ------------------------------------------------------------------\n",
        "\n",
        "            #center = z[torch.randint(0, z.shape[0] - 1, (1,)),:]\n",
        "\n",
        "            # Randomize direction\n",
        "            #dim_weights = torch.rand([z.shape[1], z.shape[2], z.shape[3]]).cuda()\n",
        "            #dim_weights = dim_weights / torch.sum(dim_weights)\n",
        "\n",
        "            #linspace = torch.linspace(-1000, 1000, z.shape[0])\n",
        "            #interpolation = torch.empty(z.shape).cuda()\n",
        "            #for i, l in enumerate(linspace):\n",
        "            #    interpolation[i,:] = center + l * dim_weights\n",
        "\n",
        "            #sample, _ = model.module(interpolation, True, logdet)\n",
        "            #grid = utils.make_grid(sample)\n",
        "\n",
        "            #utils.save_image(grid, '/content/gdrive/My Drive/Colab Notebooks/glow_samples/samples5/cifar_Test_{}__3.png'.format(epoch))\n",
        "            #files.download('cifar_Test_{}__3.png'.format(epoch))\n",
        "\n",
        "            c1 = z[torch.randint(0, z.shape[0] - 1, (1,)),:]\n",
        "            c2 = z[torch.randint(0, z.shape[0] - 1, (1,)),:]\n",
        "\n",
        "            diff = c1 - c2\n",
        "\n",
        "            linspace = torch.linspace(0, 1, z.shape[0])\n",
        "            interpolation = torch.empty(z.shape).cuda()\n",
        "            for i, l in enumerate(linspace):\n",
        "                interpolation[i,:] = c1 - l * diff\n",
        "\n",
        "            sample, _ = model.module(interpolation, True, logdet)\n",
        "            grid = utils.make_grid(sample)\n",
        "\n",
        "            utils.save_image(grid, '/content/gdrive/My Drive/Colab Notebooks/glow_samples/samples6/cifar_Test_{}__4.png'.format(epoch))\n",
        "            #files.download('cifar_Test_{}__3.png'.format(epoch))\n",
        "\n",
        "            # ------------------------------------------------------------------\n",
        "            # Reconstruction\n",
        "            # ------------------------------------------------------------------\n",
        "\n",
        "\n",
        "            # Store no samples\n",
        "\n",
        "            n_stored_samples = 0\n",
        "\n",
        "            x_hat = model.module(z, True, logdet, y_onehot, n_stored_samples=n_stored_samples)[0]\n",
        "            grid = utils.make_grid(x_hat)\n",
        "\n",
        "            utils.save_image(grid, '/content/gdrive/My Drive/Colab Notebooks/glow_samples/samples5/cifar_Test_Recon{}_0%.png'.format(epoch))\n",
        "            #files.download('cifar_Test_Recon{}_0%.png'.format(epoch))\n",
        "\n",
        "            # Store half of the samples\n",
        "\n",
        "            #n_stored_samples = LEVELS // 2\n",
        "\n",
        "            #x_hat = model.module(z, True, logdet, y_onehot, n_stored_samples=n_stored_samples)[0]\n",
        "            #grid = utils.make_grid(x_hat)\n",
        "\n",
        "            #utils.save_image(grid, '/content/gdrive/My Drive/Colab Notebooks/glow_samples/samples5/cifar_Test_Recon{}_50%.png'.format(epoch))\n",
        "            #files.download('cifar_Test_Recon{}_50%.png'.format(epoch))\n",
        "\n",
        "            # Store all samples\n",
        "\n",
        "            #n_stored_samples = LEVELS\n",
        "\n",
        "            #x_hat = model.module(z, True, logdet, y_onehot, n_stored_samples=n_stored_samples)[0]\n",
        "            #grid = utils.make_grid(x_hat)\n",
        "\n",
        "            #utils.save_image(grid, '/content/gdrive/My Drive/Colab Notebooks/glow_samples/samples5/cifar_Test_Recon{}_100%.png'.format(epoch))\n",
        "            #files.download('cifar_Test_Recon{}_100%.png'.format(epoch))\n",
        "\n",
        "\n",
        "            grid = utils.make_grid(last_img)\n",
        "\n",
        "            utils.save_image(grid, '/content/gdrive/My Drive/Colab Notebooks/glow_samples/samples6/cifar_Test_Target.png')\n",
        "            #files.download('cifar_Test_Target.png')\n"
      ],
      "execution_count": 27,
      "outputs": [
        {
          "output_type": "stream",
          "text": [
            "Epoch: 0\n",
            "Batch: 0, iteration took 1.9196, Loss: 5.97113037109375\n",
            "Batch: 1, iteration took 1.4945, Loss: 40.90465545654297\n",
            "Batch: 2, iteration took 1.4613, Loss: 40.34504699707031\n",
            "Batch: 3, iteration took 1.4671, Loss: 41.63421630859375\n",
            "Batch: 4, iteration took 1.4730, Loss: 41.45762252807617\n",
            "Batch: 5, iteration took 1.4951, Loss: 40.521121978759766\n",
            "Batch: 6, iteration took 1.4863, Loss: 40.46720886230469\n",
            "Batch: 7, iteration took 1.4964, Loss: 40.346168518066406\n"
          ],
          "name": "stdout"
        },
        {
          "output_type": "error",
          "ename": "KeyboardInterrupt",
          "evalue": "ignored",
          "traceback": [
            "\u001b[0;31m---------------------------------------------------------------------------\u001b[0m",
            "\u001b[0;31mKeyboardInterrupt\u001b[0m                         Traceback (most recent call last)",
            "\u001b[0;32m<ipython-input-27-ca86f0a3765e>\u001b[0m in \u001b[0;36m<module>\u001b[0;34m()\u001b[0m\n\u001b[1;32m     30\u001b[0m \u001b[0;34m\u001b[0m\u001b[0m\n\u001b[1;32m     31\u001b[0m         \u001b[0moptim\u001b[0m\u001b[0;34m.\u001b[0m\u001b[0mzero_grad\u001b[0m\u001b[0;34m(\u001b[0m\u001b[0;34m)\u001b[0m\u001b[0;34m\u001b[0m\u001b[0;34m\u001b[0m\u001b[0m\n\u001b[0;32m---> 32\u001b[0;31m         \u001b[0mloss\u001b[0m\u001b[0;34m.\u001b[0m\u001b[0mbackward\u001b[0m\u001b[0;34m(\u001b[0m\u001b[0;34m)\u001b[0m\u001b[0;34m\u001b[0m\u001b[0;34m\u001b[0m\u001b[0m\n\u001b[0m\u001b[1;32m     33\u001b[0m \u001b[0;34m\u001b[0m\u001b[0m\n\u001b[1;32m     34\u001b[0m         \u001b[0mtorch\u001b[0m\u001b[0;34m.\u001b[0m\u001b[0mnn\u001b[0m\u001b[0;34m.\u001b[0m\u001b[0mutils\u001b[0m\u001b[0;34m.\u001b[0m\u001b[0mclip_grad_value_\u001b[0m\u001b[0;34m(\u001b[0m\u001b[0mmodel\u001b[0m\u001b[0;34m.\u001b[0m\u001b[0mparameters\u001b[0m\u001b[0;34m(\u001b[0m\u001b[0;34m)\u001b[0m\u001b[0;34m,\u001b[0m \u001b[0;36m5\u001b[0m\u001b[0;34m)\u001b[0m\u001b[0;34m\u001b[0m\u001b[0;34m\u001b[0m\u001b[0m\n",
            "\u001b[0;32m/usr/local/lib/python3.6/dist-packages/torch/tensor.py\u001b[0m in \u001b[0;36mbackward\u001b[0;34m(self, gradient, retain_graph, create_graph)\u001b[0m\n\u001b[1;32m    164\u001b[0m                 \u001b[0mproducts\u001b[0m\u001b[0;34m.\u001b[0m \u001b[0mDefaults\u001b[0m \u001b[0mto\u001b[0m\u001b[0;31m \u001b[0m\u001b[0;31m`\u001b[0m\u001b[0;31m`\u001b[0m\u001b[0;32mFalse\u001b[0m\u001b[0;31m`\u001b[0m\u001b[0;31m`\u001b[0m\u001b[0;34m.\u001b[0m\u001b[0;34m\u001b[0m\u001b[0;34m\u001b[0m\u001b[0m\n\u001b[1;32m    165\u001b[0m         \"\"\"\n\u001b[0;32m--> 166\u001b[0;31m         \u001b[0mtorch\u001b[0m\u001b[0;34m.\u001b[0m\u001b[0mautograd\u001b[0m\u001b[0;34m.\u001b[0m\u001b[0mbackward\u001b[0m\u001b[0;34m(\u001b[0m\u001b[0mself\u001b[0m\u001b[0;34m,\u001b[0m \u001b[0mgradient\u001b[0m\u001b[0;34m,\u001b[0m \u001b[0mretain_graph\u001b[0m\u001b[0;34m,\u001b[0m \u001b[0mcreate_graph\u001b[0m\u001b[0;34m)\u001b[0m\u001b[0;34m\u001b[0m\u001b[0;34m\u001b[0m\u001b[0m\n\u001b[0m\u001b[1;32m    167\u001b[0m \u001b[0;34m\u001b[0m\u001b[0m\n\u001b[1;32m    168\u001b[0m     \u001b[0;32mdef\u001b[0m \u001b[0mregister_hook\u001b[0m\u001b[0;34m(\u001b[0m\u001b[0mself\u001b[0m\u001b[0;34m,\u001b[0m \u001b[0mhook\u001b[0m\u001b[0;34m)\u001b[0m\u001b[0;34m:\u001b[0m\u001b[0;34m\u001b[0m\u001b[0;34m\u001b[0m\u001b[0m\n",
            "\u001b[0;32m/usr/local/lib/python3.6/dist-packages/torch/autograd/__init__.py\u001b[0m in \u001b[0;36mbackward\u001b[0;34m(tensors, grad_tensors, retain_graph, create_graph, grad_variables)\u001b[0m\n\u001b[1;32m     97\u001b[0m     Variable._execution_engine.run_backward(\n\u001b[1;32m     98\u001b[0m         \u001b[0mtensors\u001b[0m\u001b[0;34m,\u001b[0m \u001b[0mgrad_tensors\u001b[0m\u001b[0;34m,\u001b[0m \u001b[0mretain_graph\u001b[0m\u001b[0;34m,\u001b[0m \u001b[0mcreate_graph\u001b[0m\u001b[0;34m,\u001b[0m\u001b[0;34m\u001b[0m\u001b[0;34m\u001b[0m\u001b[0m\n\u001b[0;32m---> 99\u001b[0;31m         allow_unreachable=True)  # allow_unreachable flag\n\u001b[0m\u001b[1;32m    100\u001b[0m \u001b[0;34m\u001b[0m\u001b[0m\n\u001b[1;32m    101\u001b[0m \u001b[0;34m\u001b[0m\u001b[0m\n",
            "\u001b[0;31mKeyboardInterrupt\u001b[0m: "
          ]
        }
      ]
    },
    {
      "cell_type": "markdown",
      "metadata": {
        "id": "_k3NiiVxWFWG",
        "colab_type": "text"
      },
      "source": [
        "## References\n",
        "\n",
        "Kingma,  D.  P.  &  Dhariwal,  P.  (2018),  Glow:  Generative  flow  with  invertible  1x1  convolutions, in ‘Advances in Neural Information Processing Systems’, pp. 10215–10224.\n",
        "\n",
        "Dinh, L., Sohl-Dickstein, J. & Bengio, S. (2016), ‘Density estimation using real nvp’ ,arXiv preprintarXiv:1605.08803.\n",
        "\n",
        "\n"
      ]
    }
  ]
}